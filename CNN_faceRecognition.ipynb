{
 "cells": [
  {
   "cell_type": "code",
   "execution_count": 10,
   "metadata": {},
   "outputs": [
    {
     "data": {
      "text/plain": [
       "'C:\\\\Users\\\\vikram singh\\\\computer_vision'"
      ]
     },
     "execution_count": 10,
     "metadata": {},
     "output_type": "execute_result"
    }
   ],
   "source": [
    "pwd"
   ]
  },
  {
   "cell_type": "code",
   "execution_count": 11,
   "metadata": {},
   "outputs": [],
   "source": [
    "import tensorflow as tf\n",
    "from sklearn.datasets import fetch_olivetti_faces\n",
    "from sklearn.preprocessing import LabelBinarizer\n",
    "import matplotlib.pyplot as plt"
   ]
  },
  {
   "cell_type": "code",
   "execution_count": 12,
   "metadata": {},
   "outputs": [],
   "source": [
    "df = fetch_olivetti_faces(shuffle=True)\n",
    "labels = LabelBinarizer().fit_transform(df.target)"
   ]
  },
  {
   "cell_type": "code",
   "execution_count": 13,
   "metadata": {},
   "outputs": [],
   "source": [
    "#Training Data\n",
    "img_datatraining = df.data[0:299]\n",
    "labels_datatraining = labels[0:299]\n",
    "\n",
    "#validation Data\n",
    "img_datavalid = df.data[299:349]\n",
    "labels_datavalid = labels[299:349]\n",
    "\n",
    "#Testing Data\n",
    "img_datatesting = df.data[0:2]\n",
    "labels_datatesting = labels[0:299]\n",
    "\n",
    "\n"
   ]
  },
  {
   "cell_type": "code",
   "execution_count": 14,
   "metadata": {},
   "outputs": [
    {
     "data": {
      "text/plain": [
       "<matplotlib.image.AxesImage at 0x2be80e71cc0>"
      ]
     },
     "execution_count": 14,
     "metadata": {},
     "output_type": "execute_result"
    },
    {
     "data": {
      "image/png": "[encoded data removed]",
      "text/plain": [
       "<Figure size 432x288 with 1 Axes>"
      ]
     },
     "metadata": {
      "needs_background": "light"
     },
     "output_type": "display_data"
    }
   ],
   "source": [
    "plt.imshow(img_datatraining[50].reshape(64,64,)) #input size of image 64,64"
   ]
  },
  {
   "cell_type": "markdown",
   "metadata": {},
   "source": [
    "# convolution and polling layers"
   ]
  },
  {
   "cell_type": "code",
   "execution_count": 15,
   "metadata": {},
   "outputs": [],
   "source": [
    "x = tf.placeholder(tf.float32,[None,4096])\n",
    "y_ = tf.placeholder(tf.int32,[None,40])\n",
    "\n",
    "def weight(shape):\n",
    "    init = tf.truncated_normal(shape=shape,stddev = 0.1)\n",
    "    return tf.Variable(init)\n",
    "\n",
    "def bias(shape):\n",
    "    init = tf.constant(0.1,shape=shape)\n",
    "    return tf.Variable(init)\n",
    "\n",
    "def conv2d(x,w):\n",
    "    return tf.nn.conv2d(x,w, strides=[1,1,1,1],padding=\"SAME\")\n",
    "\n",
    "def max_pooling(x):\n",
    "    return tf.nn.max_pool(x,ksize = [1,2,2,1],strides=[1,2,2,1],padding=\"SAME\")\n",
    "\n",
    "\n",
    "w1 = weight([5,5,1,32])\n",
    "b1 = bias([32])\n",
    "w2 = weight([5,5,32,64])\n",
    "b2 = bias([64])\n",
    "w3 = weight([5,5,64,128])\n",
    "b3 = bias([128])\n",
    "\n",
    "x_image = tf.reshape(x,[-1,64,64,1])\n",
    "\n",
    "conv1 = tf.nn.relu(conv2d(x_image,w1) + b1)\n",
    "pool1 = max_pooling(conv1)\n",
    "\n",
    "\n",
    "conv2 = tf.nn.relu(conv2d(pool1,w2) + b2)\n",
    "pool2 = max_pooling(conv2)\n",
    "\n",
    "conv3 = tf.nn.relu(conv2d(pool2,w3) + b3)\n",
    "pool3 = max_pooling(conv3)\n",
    "\n",
    "w_fc1 = weight([8*8*128,1024])\n",
    "b_fc1 = bias([1024])\n",
    "\n",
    "pool_flat = tf.reshape(pool3,[-1, 8*8*128])\n",
    "h_fc1 = tf.nn.relu(tf.matmul(pool_flat,w_fc1)+ b_fc1)\n",
    "\n",
    "prob = tf.placeholder(tf.float32)\n",
    "drop = tf.nn.dropout(h_fc1,prob)\n",
    "w_fc2 = weight([1024,40])\n",
    "b_fc2 = bias([40])\n",
    "\n",
    "y_conv = tf.matmul(drop,w_fc2) + b_fc2\n"
   ]
  },
  {
   "cell_type": "markdown",
   "metadata": {},
   "source": [
    "# Training"
   ]
  },
  {
   "cell_type": "code",
   "execution_count": 16,
   "metadata": {},
   "outputs": [],
   "source": [
    "entropy = tf.reduce_mean(tf.nn.softmax_cross_entropy_with_logits(labels = y_,logits = y_conv))\n",
    "training_op = tf.train.AdamOptimizer(1e-4).minimize(entropy)\n",
    "\n",
    "\n",
    "\n",
    "#Prediction measures\n",
    "correct_pred = tf.equal(tf.argmax(y_conv,1),tf.argmax(y_,1))\n",
    "accuracy = tf.reduce_mean(tf.cast(correct_pred,tf.float32))\n",
    "saver  = tf.train.Saver()\n",
    "                        "
   ]
  },
  {
   "cell_type": "code",
   "execution_count": null,
   "metadata": {},
   "outputs": [],
   "source": [
    "epochs = 200\n",
    "with tf.Session() as sess:\n",
    "    sess.run(tf.global_variables_initializer())\n",
    "    for epoch in range(epochs):\n",
    "        sess.run(training_op,feed_dict = {x:img_datatraining, y_:labels_datatraining, prob: 0.5})\n",
    "        acc_train = accuracy.eval(feed_dict = {x:img_datatraining,y_:labels_datatraining,prob: 1})\n",
    "        acc_validation = accuracy.eval(feed_dict = {x:img_datavalid,y_:labels_datavalid,prob: 1})\n",
    "        print(epoch, 'Train accuracy', acc_train, \"Validation accuracy\",acc_validation)\n",
    "    save_path = saver.save(sess , r\"C:\\Users\\vikram singh\\computer_vision\\my_face\")"
   ]
  },
  {
   "cell_type": "code",
   "execution_count": 8,
   "metadata": {},
   "outputs": [
    {
     "data": {
      "text/plain": [
       "'C:\\\\Users\\\\vikram singh'"
      ]
     },
     "execution_count": 8,
     "metadata": {},
     "output_type": "execute_result"
    }
   ],
   "source": []
  },
  {
   "cell_type": "code",
   "execution_count": 9,
   "metadata": {},
   "outputs": [
    {
     "name": "stdout",
     "output_type": "stream",
     "text": [
      "C:\\Users\\vikram singh\\computer_vision\n"
     ]
    }
   ],
   "source": [
    "cd computer_vision/"
   ]
  },
  {
   "cell_type": "code",
   "execution_count": null,
   "metadata": {},
   "outputs": [],
   "source": []
  }
 ],
 "metadata": {
  "kernelspec": {
   "display_name": "Python 3",
   "language": "python",
   "name": "python3"
  },
  "language_info": {
   "codemirror_mode": {
    "name": "ipython",
    "version": 3
   },
   "file_extension": ".py",
   "mimetype": "text/x-python",
   "name": "python",
   "nbconvert_exporter": "python",
   "pygments_lexer": "ipython3",
   "version": "3.6.7"
  }
 },
 "nbformat": 4,
 "nbformat_minor": 2
}
